{
 "cells": [
  {
   "cell_type": "code",
   "execution_count": 1,
   "metadata": {},
   "outputs": [
    {
     "name": "stderr",
     "output_type": "stream",
     "text": [
      "/Users/mac/anaconda/envs/py35/lib/python3.5/importlib/_bootstrap.py:222: RuntimeWarning: numpy.dtype size changed, may indicate binary incompatibility. Expected 96, got 88\n",
      "  return f(*args, **kwds)\n",
      "/Users/mac/anaconda/envs/py35/lib/python3.5/importlib/_bootstrap.py:222: RuntimeWarning: numpy.dtype size changed, may indicate binary incompatibility. Expected 96, got 88\n",
      "  return f(*args, **kwds)\n"
     ]
    }
   ],
   "source": [
    "%matplotlib inline\n",
    "import os\n",
    "import sys\n",
    "import numpy as np\n",
    "import nept\n",
    "import matplotlib.pyplot as plt\n",
    "import scipy.stats"
   ]
  },
  {
   "cell_type": "code",
   "execution_count": 196,
   "metadata": {},
   "outputs": [],
   "source": [
    "# Modify if you have different file structure or want to use different file.\n",
    "data_path = os.path.join(os.path.abspath('..'), 'MotivationalT')\n",
    "data_folder = os.path.join(data_path, 'R042', 'R042-2013-08-18')\n",
    "\n",
    "# load the info file, which contains experiment-specific information\n",
    "sys.path.append(data_folder)\n",
    "import r042d3 as info\n",
    "\n",
    "# Load spikes (.t and ._t) from this experiment\n",
    "spikes = nept.load_spikes(data_folder)"
   ]
  },
  {
   "cell_type": "code",
   "execution_count": 197,
   "metadata": {},
   "outputs": [],
   "source": [
    "# Construct binned spikes (Q-matrix) using on-track data.\n",
    "on_track_start = info.task_times['on_track'].time[0, 0]\n",
    "on_track_end = info.task_times['on_track'].time[0, 1]\n",
    "binsize = 0.025\n",
    "\n",
    "binned_spikes = nept.utils.bin_spikes(spikes, [on_track_start, on_track_end], binsize, gaussian_std=2, normalized=True)"
   ]
  },
  {
   "cell_type": "code",
   "execution_count": 219,
   "metadata": {
    "collapsed": true
   },
   "outputs": [],
   "source": [
    "# Find left and right trials\n",
    "left_epochs = info.experiment_times['left_trials'].time\n",
    "right_epochs = info.experiment_times['right_trials'].time\n",
    "\n",
    "left_b_spikes = binned_spikes.time_slice(left_epochs[:, 0], left_epochs[:, 1])\n",
    "right_b_spikes = binned_spikes.time_slice(right_epochs[:, 0], right_epochs[:, 1])"
   ]
  }
 ],
 "metadata": {
  "kernelspec": {
   "display_name": "Python [conda env:py35]",
   "language": "python",
   "name": "conda-env-py35-py"
  },
  "language_info": {
   "codemirror_mode": {
    "name": "ipython",
    "version": 3
   },
   "file_extension": ".py",
   "mimetype": "text/x-python",
   "name": "python",
   "nbconvert_exporter": "python",
   "pygments_lexer": "ipython3",
   "version": "3.5.3"
  }
 },
 "nbformat": 4,
 "nbformat_minor": 1
}
